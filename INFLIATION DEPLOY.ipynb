{
 "cells": [
  {
   "cell_type": "code",
   "execution_count": 1,
   "id": "256e17f5",
   "metadata": {
    "ExecuteTime": {
     "end_time": "2022-04-22T07:27:57.087701Z",
     "start_time": "2022-04-22T07:27:55.948876Z"
    }
   },
   "outputs": [],
   "source": [
    "import pandas as pd\n",
    "import numpy as np\n",
    "import pickle"
   ]
  },
  {
   "cell_type": "code",
   "execution_count": 2,
   "id": "efac0400",
   "metadata": {
    "ExecuteTime": {
     "end_time": "2022-04-22T07:27:57.128961Z",
     "start_time": "2022-04-22T07:27:57.094016Z"
    }
   },
   "outputs": [],
   "source": [
    "df=pd.read_csv('final.csv')"
   ]
  },
  {
   "cell_type": "code",
   "execution_count": 3,
   "id": "b50f9672",
   "metadata": {
    "ExecuteTime": {
     "end_time": "2022-04-22T07:27:57.192201Z",
     "start_time": "2022-04-22T07:27:57.133243Z"
    }
   },
   "outputs": [
    {
     "data": {
      "text/html": [
       "<div>\n",
       "<style scoped>\n",
       "    .dataframe tbody tr th:only-of-type {\n",
       "        vertical-align: middle;\n",
       "    }\n",
       "\n",
       "    .dataframe tbody tr th {\n",
       "        vertical-align: top;\n",
       "    }\n",
       "\n",
       "    .dataframe thead th {\n",
       "        text-align: right;\n",
       "    }\n",
       "</style>\n",
       "<table border=\"1\" class=\"dataframe\">\n",
       "  <thead>\n",
       "    <tr style=\"text-align: right;\">\n",
       "      <th></th>\n",
       "      <th>year</th>\n",
       "      <th>cpi</th>\n",
       "    </tr>\n",
       "  </thead>\n",
       "  <tbody>\n",
       "    <tr>\n",
       "      <th>0</th>\n",
       "      <td>1960-01-01</td>\n",
       "      <td>1.779878</td>\n",
       "    </tr>\n",
       "    <tr>\n",
       "      <th>1</th>\n",
       "      <td>1960-02-01</td>\n",
       "      <td>1.772822</td>\n",
       "    </tr>\n",
       "    <tr>\n",
       "      <th>2</th>\n",
       "      <td>1960-03-01</td>\n",
       "      <td>1.765767</td>\n",
       "    </tr>\n",
       "    <tr>\n",
       "      <th>3</th>\n",
       "      <td>1960-04-01</td>\n",
       "      <td>1.758712</td>\n",
       "    </tr>\n",
       "    <tr>\n",
       "      <th>4</th>\n",
       "      <td>1960-05-01</td>\n",
       "      <td>1.751656</td>\n",
       "    </tr>\n",
       "    <tr>\n",
       "      <th>...</th>\n",
       "      <td>...</td>\n",
       "      <td>...</td>\n",
       "    </tr>\n",
       "    <tr>\n",
       "      <th>716</th>\n",
       "      <td>2019-09-01</td>\n",
       "      <td>5.656717</td>\n",
       "    </tr>\n",
       "    <tr>\n",
       "      <th>717</th>\n",
       "      <td>2019-10-01</td>\n",
       "      <td>5.898397</td>\n",
       "    </tr>\n",
       "    <tr>\n",
       "      <th>718</th>\n",
       "      <td>2019-11-01</td>\n",
       "      <td>6.140077</td>\n",
       "    </tr>\n",
       "    <tr>\n",
       "      <th>719</th>\n",
       "      <td>2019-12-01</td>\n",
       "      <td>6.381757</td>\n",
       "    </tr>\n",
       "    <tr>\n",
       "      <th>720</th>\n",
       "      <td>2020-01-01</td>\n",
       "      <td>6.623437</td>\n",
       "    </tr>\n",
       "  </tbody>\n",
       "</table>\n",
       "<p>721 rows × 2 columns</p>\n",
       "</div>"
      ],
      "text/plain": [
       "           year       cpi\n",
       "0    1960-01-01  1.779878\n",
       "1    1960-02-01  1.772822\n",
       "2    1960-03-01  1.765767\n",
       "3    1960-04-01  1.758712\n",
       "4    1960-05-01  1.751656\n",
       "..          ...       ...\n",
       "716  2019-09-01  5.656717\n",
       "717  2019-10-01  5.898397\n",
       "718  2019-11-01  6.140077\n",
       "719  2019-12-01  6.381757\n",
       "720  2020-01-01  6.623437\n",
       "\n",
       "[721 rows x 2 columns]"
      ]
     },
     "execution_count": 3,
     "metadata": {},
     "output_type": "execute_result"
    }
   ],
   "source": [
    "df"
   ]
  },
  {
   "cell_type": "code",
   "execution_count": 4,
   "id": "55bd54a8",
   "metadata": {
    "ExecuteTime": {
     "end_time": "2022-04-22T07:27:57.208255Z",
     "start_time": "2022-04-22T07:27:57.197301Z"
    }
   },
   "outputs": [],
   "source": [
    "df.set_index('year',inplace=True)"
   ]
  },
  {
   "cell_type": "code",
   "execution_count": 5,
   "id": "45a303cf",
   "metadata": {
    "ExecuteTime": {
     "end_time": "2022-04-22T07:27:57.246489Z",
     "start_time": "2022-04-22T07:27:57.213439Z"
    }
   },
   "outputs": [
    {
     "data": {
      "text/html": [
       "<div>\n",
       "<style scoped>\n",
       "    .dataframe tbody tr th:only-of-type {\n",
       "        vertical-align: middle;\n",
       "    }\n",
       "\n",
       "    .dataframe tbody tr th {\n",
       "        vertical-align: top;\n",
       "    }\n",
       "\n",
       "    .dataframe thead th {\n",
       "        text-align: right;\n",
       "    }\n",
       "</style>\n",
       "<table border=\"1\" class=\"dataframe\">\n",
       "  <thead>\n",
       "    <tr style=\"text-align: right;\">\n",
       "      <th></th>\n",
       "      <th>cpi</th>\n",
       "    </tr>\n",
       "    <tr>\n",
       "      <th>year</th>\n",
       "      <th></th>\n",
       "    </tr>\n",
       "  </thead>\n",
       "  <tbody>\n",
       "    <tr>\n",
       "      <th>1960-01-01</th>\n",
       "      <td>1.779878</td>\n",
       "    </tr>\n",
       "    <tr>\n",
       "      <th>1960-02-01</th>\n",
       "      <td>1.772822</td>\n",
       "    </tr>\n",
       "    <tr>\n",
       "      <th>1960-03-01</th>\n",
       "      <td>1.765767</td>\n",
       "    </tr>\n",
       "    <tr>\n",
       "      <th>1960-04-01</th>\n",
       "      <td>1.758712</td>\n",
       "    </tr>\n",
       "    <tr>\n",
       "      <th>1960-05-01</th>\n",
       "      <td>1.751656</td>\n",
       "    </tr>\n",
       "    <tr>\n",
       "      <th>...</th>\n",
       "      <td>...</td>\n",
       "    </tr>\n",
       "    <tr>\n",
       "      <th>2019-09-01</th>\n",
       "      <td>5.656717</td>\n",
       "    </tr>\n",
       "    <tr>\n",
       "      <th>2019-10-01</th>\n",
       "      <td>5.898397</td>\n",
       "    </tr>\n",
       "    <tr>\n",
       "      <th>2019-11-01</th>\n",
       "      <td>6.140077</td>\n",
       "    </tr>\n",
       "    <tr>\n",
       "      <th>2019-12-01</th>\n",
       "      <td>6.381757</td>\n",
       "    </tr>\n",
       "    <tr>\n",
       "      <th>2020-01-01</th>\n",
       "      <td>6.623437</td>\n",
       "    </tr>\n",
       "  </tbody>\n",
       "</table>\n",
       "<p>721 rows × 1 columns</p>\n",
       "</div>"
      ],
      "text/plain": [
       "                 cpi\n",
       "year                \n",
       "1960-01-01  1.779878\n",
       "1960-02-01  1.772822\n",
       "1960-03-01  1.765767\n",
       "1960-04-01  1.758712\n",
       "1960-05-01  1.751656\n",
       "...              ...\n",
       "2019-09-01  5.656717\n",
       "2019-10-01  5.898397\n",
       "2019-11-01  6.140077\n",
       "2019-12-01  6.381757\n",
       "2020-01-01  6.623437\n",
       "\n",
       "[721 rows x 1 columns]"
      ]
     },
     "execution_count": 5,
     "metadata": {},
     "output_type": "execute_result"
    }
   ],
   "source": [
    "df"
   ]
  },
  {
   "cell_type": "code",
   "execution_count": 6,
   "id": "d4bbee9f",
   "metadata": {
    "ExecuteTime": {
     "end_time": "2022-04-22T07:27:57.295087Z",
     "start_time": "2022-04-22T07:27:57.249658Z"
    }
   },
   "outputs": [
    {
     "name": "stdout",
     "output_type": "stream",
     "text": [
      "Dataset 621, Validation 100\n"
     ]
    }
   ],
   "source": [
    "# separate out a validation dataset\n",
    "split_point = len(df) - 100\n",
    "dataset, validation = df[0:split_point], df[split_point:]\n",
    "print('Dataset %d, Validation %d' % (len(dataset), len(validation)))\n",
    "dataset.to_csv('dataset.csv', header=False)\n",
    "validation.to_csv('validation.csv', header=False)"
   ]
  },
  {
   "cell_type": "code",
   "execution_count": 7,
   "id": "83d380ed",
   "metadata": {
    "ExecuteTime": {
     "end_time": "2022-04-22T07:27:57.318581Z",
     "start_time": "2022-04-22T07:27:57.299584Z"
    }
   },
   "outputs": [
    {
     "name": "stdout",
     "output_type": "stream",
     "text": [
      "(721, 1)\n",
      "(721, 1) (100, 1)\n"
     ]
    }
   ],
   "source": [
    "print(df.shape)\n",
    "train=df.iloc[:-100]\n",
    "test=df.iloc[-100:]\n",
    "print(df.shape,test.shape)"
   ]
  },
  {
   "cell_type": "code",
   "execution_count": 8,
   "id": "d582ab7f",
   "metadata": {
    "ExecuteTime": {
     "end_time": "2022-04-22T07:27:58.376204Z",
     "start_time": "2022-04-22T07:27:57.322929Z"
    }
   },
   "outputs": [],
   "source": [
    "#base model\n",
    "# evaluate a persistence model\n",
    "from pandas import read_csv\n",
    "from sklearn.metrics import mean_squared_error\n",
    "from math import sqrt\n",
    "# load data\n",
    "train = read_csv('dataset.csv', header=None, index_col=0, parse_dates=True, squeeze=True)\n",
    "# prepare data\n",
    "X = train.values\n",
    "X = X.astype('float32')\n",
    "train_size = int(len(X) * 0.50)\n",
    "train, test = X[0:train_size], X[train_size:]"
   ]
  },
  {
   "cell_type": "code",
   "execution_count": 9,
   "id": "dca9c7bf",
   "metadata": {
    "ExecuteTime": {
     "end_time": "2022-04-22T07:27:58.432069Z",
     "start_time": "2022-04-22T07:27:58.380192Z"
    }
   },
   "outputs": [
    {
     "name": "stdout",
     "output_type": "stream",
     "text": [
      ">Predicted=7.936, Expected=8.201\n",
      ">Predicted=8.201, Expected=8.465\n",
      ">Predicted=8.465, Expected=8.730\n",
      ">Predicted=8.730, Expected=8.736\n",
      ">Predicted=8.736, Expected=8.742\n",
      ">Predicted=8.742, Expected=8.748\n",
      ">Predicted=8.748, Expected=8.754\n",
      ">Predicted=8.754, Expected=8.759\n",
      ">Predicted=8.759, Expected=8.765\n",
      ">Predicted=8.765, Expected=8.771\n",
      ">Predicted=8.771, Expected=8.777\n",
      ">Predicted=8.777, Expected=8.783\n",
      ">Predicted=8.783, Expected=8.789\n",
      ">Predicted=8.789, Expected=8.795\n",
      ">Predicted=8.795, Expected=8.801\n",
      ">Predicted=8.801, Expected=8.850\n",
      ">Predicted=8.850, Expected=8.898\n",
      ">Predicted=8.898, Expected=8.947\n",
      ">Predicted=8.947, Expected=8.995\n",
      ">Predicted=8.995, Expected=9.044\n",
      ">Predicted=9.044, Expected=9.092\n",
      ">Predicted=9.092, Expected=9.141\n",
      ">Predicted=9.141, Expected=9.189\n",
      ">Predicted=9.189, Expected=9.238\n",
      ">Predicted=9.238, Expected=9.286\n",
      ">Predicted=9.286, Expected=9.335\n",
      ">Predicted=9.335, Expected=9.383\n",
      ">Predicted=9.383, Expected=9.191\n",
      ">Predicted=9.191, Expected=8.999\n",
      ">Predicted=8.999, Expected=8.806\n",
      ">Predicted=8.806, Expected=8.614\n",
      ">Predicted=8.614, Expected=8.421\n",
      ">Predicted=8.421, Expected=8.229\n",
      ">Predicted=8.229, Expected=8.036\n",
      ">Predicted=8.036, Expected=7.844\n",
      ">Predicted=7.844, Expected=7.652\n",
      ">Predicted=7.652, Expected=7.459\n",
      ">Predicted=7.459, Expected=7.267\n",
      ">Predicted=7.267, Expected=7.074\n",
      ">Predicted=7.074, Expected=7.232\n",
      ">Predicted=7.232, Expected=7.390\n",
      ">Predicted=7.390, Expected=7.549\n",
      ">Predicted=7.549, Expected=7.707\n",
      ">Predicted=7.707, Expected=7.865\n",
      ">Predicted=7.865, Expected=8.023\n",
      ">Predicted=8.023, Expected=8.181\n",
      ">Predicted=8.181, Expected=8.339\n",
      ">Predicted=8.339, Expected=8.497\n",
      ">Predicted=8.497, Expected=8.655\n",
      ">Predicted=8.655, Expected=8.813\n",
      ">Predicted=8.813, Expected=8.971\n",
      ">Predicted=8.971, Expected=9.379\n",
      ">Predicted=9.379, Expected=9.788\n",
      ">Predicted=9.788, Expected=10.196\n",
      ">Predicted=10.196, Expected=10.604\n",
      ">Predicted=10.604, Expected=11.012\n",
      ">Predicted=11.012, Expected=11.421\n",
      ">Predicted=11.421, Expected=11.829\n",
      ">Predicted=11.829, Expected=12.237\n",
      ">Predicted=12.237, Expected=12.645\n",
      ">Predicted=12.645, Expected=13.054\n",
      ">Predicted=13.054, Expected=13.462\n",
      ">Predicted=13.462, Expected=13.870\n",
      ">Predicted=13.870, Expected=13.697\n",
      ">Predicted=13.697, Expected=13.523\n",
      ">Predicted=13.523, Expected=13.350\n",
      ">Predicted=13.350, Expected=13.176\n",
      ">Predicted=13.176, Expected=13.003\n",
      ">Predicted=13.003, Expected=12.829\n",
      ">Predicted=12.829, Expected=12.655\n",
      ">Predicted=12.655, Expected=12.482\n",
      ">Predicted=12.482, Expected=12.308\n",
      ">Predicted=12.308, Expected=12.135\n",
      ">Predicted=12.135, Expected=11.961\n",
      ">Predicted=11.961, Expected=11.788\n",
      ">Predicted=11.788, Expected=11.333\n",
      ">Predicted=11.333, Expected=10.878\n",
      ">Predicted=10.878, Expected=10.423\n",
      ">Predicted=10.423, Expected=9.968\n",
      ">Predicted=9.968, Expected=9.512\n",
      ">Predicted=9.512, Expected=9.057\n",
      ">Predicted=9.057, Expected=8.602\n",
      ">Predicted=8.602, Expected=8.147\n",
      ">Predicted=8.147, Expected=7.692\n",
      ">Predicted=7.692, Expected=7.237\n",
      ">Predicted=7.237, Expected=6.782\n",
      ">Predicted=6.782, Expected=6.327\n",
      ">Predicted=6.327, Expected=6.654\n",
      ">Predicted=6.654, Expected=6.980\n",
      ">Predicted=6.980, Expected=7.307\n",
      ">Predicted=7.307, Expected=7.634\n",
      ">Predicted=7.634, Expected=7.961\n",
      ">Predicted=7.961, Expected=8.287\n",
      ">Predicted=8.287, Expected=8.614\n",
      ">Predicted=8.614, Expected=8.941\n",
      ">Predicted=8.941, Expected=9.268\n",
      ">Predicted=9.268, Expected=9.594\n",
      ">Predicted=9.594, Expected=9.921\n",
      ">Predicted=9.921, Expected=10.248\n",
      ">Predicted=10.248, Expected=10.246\n",
      ">Predicted=10.246, Expected=10.244\n",
      ">Predicted=10.244, Expected=10.242\n",
      ">Predicted=10.242, Expected=10.240\n",
      ">Predicted=10.240, Expected=10.238\n",
      ">Predicted=10.238, Expected=10.236\n",
      ">Predicted=10.236, Expected=10.234\n",
      ">Predicted=10.234, Expected=10.233\n",
      ">Predicted=10.233, Expected=10.231\n",
      ">Predicted=10.231, Expected=10.229\n",
      ">Predicted=10.229, Expected=10.227\n",
      ">Predicted=10.227, Expected=10.225\n",
      ">Predicted=10.225, Expected=10.121\n",
      ">Predicted=10.121, Expected=10.017\n",
      ">Predicted=10.017, Expected=9.913\n",
      ">Predicted=9.913, Expected=9.809\n",
      ">Predicted=9.809, Expected=9.705\n",
      ">Predicted=9.705, Expected=9.601\n",
      ">Predicted=9.601, Expected=9.497\n",
      ">Predicted=9.497, Expected=9.393\n",
      ">Predicted=9.393, Expected=9.289\n",
      ">Predicted=9.289, Expected=9.185\n",
      ">Predicted=9.185, Expected=9.081\n",
      ">Predicted=9.081, Expected=8.977\n",
      ">Predicted=8.977, Expected=8.826\n",
      ">Predicted=8.826, Expected=8.675\n",
      ">Predicted=8.675, Expected=8.524\n",
      ">Predicted=8.524, Expected=8.373\n",
      ">Predicted=8.373, Expected=8.222\n",
      ">Predicted=8.222, Expected=8.071\n",
      ">Predicted=8.071, Expected=7.920\n",
      ">Predicted=7.920, Expected=7.769\n",
      ">Predicted=7.769, Expected=7.617\n",
      ">Predicted=7.617, Expected=7.466\n",
      ">Predicted=7.466, Expected=7.315\n",
      ">Predicted=7.315, Expected=7.164\n",
      ">Predicted=7.164, Expected=7.670\n",
      ">Predicted=7.670, Expected=8.175\n",
      ">Predicted=8.175, Expected=8.681\n",
      ">Predicted=8.681, Expected=9.186\n",
      ">Predicted=9.186, Expected=9.692\n",
      ">Predicted=9.692, Expected=10.198\n",
      ">Predicted=10.198, Expected=10.703\n",
      ">Predicted=10.703, Expected=11.209\n",
      ">Predicted=11.209, Expected=11.714\n",
      ">Predicted=11.714, Expected=12.220\n",
      ">Predicted=12.220, Expected=12.725\n",
      ">Predicted=12.725, Expected=13.231\n",
      ">Predicted=13.231, Expected=12.517\n",
      ">Predicted=12.517, Expected=11.804\n",
      ">Predicted=11.804, Expected=11.091\n",
      ">Predicted=11.091, Expected=10.377\n",
      ">Predicted=10.377, Expected=9.664\n",
      ">Predicted=9.664, Expected=8.950\n",
      ">Predicted=8.950, Expected=8.237\n",
      ">Predicted=8.237, Expected=7.523\n",
      ">Predicted=7.523, Expected=6.810\n",
      ">Predicted=6.810, Expected=6.097\n",
      ">Predicted=6.097, Expected=5.383\n",
      ">Predicted=5.383, Expected=4.670\n",
      ">Predicted=4.670, Expected=4.615\n",
      ">Predicted=4.615, Expected=4.560\n",
      ">Predicted=4.560, Expected=4.505\n",
      ">Predicted=4.505, Expected=4.450\n",
      ">Predicted=4.450, Expected=4.395\n",
      ">Predicted=4.395, Expected=4.340\n",
      ">Predicted=4.340, Expected=4.285\n",
      ">Predicted=4.285, Expected=4.230\n",
      ">Predicted=4.230, Expected=4.175\n",
      ">Predicted=4.175, Expected=4.120\n",
      ">Predicted=4.120, Expected=4.064\n",
      ">Predicted=4.064, Expected=4.009\n",
      ">Predicted=4.009, Expected=3.990\n",
      ">Predicted=3.990, Expected=3.971\n",
      ">Predicted=3.971, Expected=3.952\n",
      ">Predicted=3.952, Expected=3.933\n",
      ">Predicted=3.933, Expected=3.914\n",
      ">Predicted=3.914, Expected=3.894\n",
      ">Predicted=3.894, Expected=3.875\n",
      ">Predicted=3.875, Expected=3.856\n",
      ">Predicted=3.856, Expected=3.837\n",
      ">Predicted=3.837, Expected=3.818\n",
      ">Predicted=3.818, Expected=3.798\n",
      ">Predicted=3.798, Expected=3.779\n",
      ">Predicted=3.779, Expected=3.822\n",
      ">Predicted=3.822, Expected=3.866\n",
      ">Predicted=3.866, Expected=3.909\n",
      ">Predicted=3.909, Expected=3.952\n",
      ">Predicted=3.952, Expected=3.995\n",
      ">Predicted=3.995, Expected=4.038\n",
      ">Predicted=4.038, Expected=4.081\n",
      ">Predicted=4.081, Expected=4.125\n",
      ">Predicted=4.125, Expected=4.168\n",
      ">Predicted=4.168, Expected=4.211\n",
      ">Predicted=4.211, Expected=4.254\n",
      ">Predicted=4.254, Expected=4.297\n",
      ">Predicted=4.297, Expected=4.256\n",
      ">Predicted=4.256, Expected=4.215\n",
      ">Predicted=4.215, Expected=4.174\n",
      ">Predicted=4.174, Expected=4.133\n",
      ">Predicted=4.133, Expected=4.092\n",
      ">Predicted=4.092, Expected=4.052\n",
      ">Predicted=4.052, Expected=4.011\n",
      ">Predicted=4.011, Expected=3.970\n",
      ">Predicted=3.970, Expected=3.929\n",
      ">Predicted=3.929, Expected=3.888\n",
      ">Predicted=3.888, Expected=3.847\n",
      ">Predicted=3.847, Expected=3.806\n",
      ">Predicted=3.806, Expected=3.803\n",
      ">Predicted=3.803, Expected=3.799\n",
      ">Predicted=3.799, Expected=3.796\n",
      ">Predicted=3.796, Expected=3.793\n",
      ">Predicted=3.793, Expected=3.790\n",
      ">Predicted=3.790, Expected=3.787\n",
      ">Predicted=3.787, Expected=3.783\n",
      ">Predicted=3.783, Expected=3.780\n",
      ">Predicted=3.780, Expected=3.777\n",
      ">Predicted=3.777, Expected=3.774\n",
      ">Predicted=3.774, Expected=3.770\n",
      ">Predicted=3.770, Expected=3.767\n",
      ">Predicted=3.767, Expected=3.807\n",
      ">Predicted=3.807, Expected=3.847\n",
      ">Predicted=3.847, Expected=3.887\n",
      ">Predicted=3.887, Expected=3.927\n",
      ">Predicted=3.927, Expected=3.967\n",
      ">Predicted=3.967, Expected=4.007\n",
      ">Predicted=4.007, Expected=4.047\n",
      ">Predicted=4.047, Expected=4.087\n",
      ">Predicted=4.087, Expected=4.127\n",
      ">Predicted=4.127, Expected=4.166\n",
      ">Predicted=4.166, Expected=4.206\n",
      ">Predicted=4.206, Expected=4.246\n",
      ">Predicted=4.246, Expected=4.376\n",
      ">Predicted=4.376, Expected=4.505\n",
      ">Predicted=4.505, Expected=4.634\n",
      ">Predicted=4.634, Expected=4.763\n",
      ">Predicted=4.763, Expected=4.892\n",
      ">Predicted=4.892, Expected=5.021\n",
      ">Predicted=5.021, Expected=5.151\n",
      ">Predicted=5.151, Expected=5.280\n",
      ">Predicted=5.280, Expected=5.409\n",
      ">Predicted=5.409, Expected=5.538\n",
      ">Predicted=5.538, Expected=5.667\n",
      ">Predicted=5.667, Expected=5.797\n",
      ">Predicted=5.797, Expected=5.845\n",
      ">Predicted=5.845, Expected=5.893\n",
      ">Predicted=5.893, Expected=5.941\n",
      ">Predicted=5.941, Expected=5.989\n",
      ">Predicted=5.989, Expected=6.037\n",
      ">Predicted=6.037, Expected=6.085\n",
      ">Predicted=6.085, Expected=6.133\n",
      ">Predicted=6.133, Expected=6.181\n",
      ">Predicted=6.181, Expected=6.229\n",
      ">Predicted=6.229, Expected=6.277\n",
      ">Predicted=6.277, Expected=6.325\n",
      ">Predicted=6.325, Expected=6.373\n",
      ">Predicted=6.373, Expected=6.538\n",
      ">Predicted=6.538, Expected=6.702\n",
      ">Predicted=6.702, Expected=6.867\n",
      ">Predicted=6.867, Expected=7.032\n",
      ">Predicted=7.032, Expected=7.196\n",
      ">Predicted=7.196, Expected=7.361\n",
      ">Predicted=7.361, Expected=7.526\n",
      ">Predicted=7.526, Expected=7.690\n",
      ">Predicted=7.690, Expected=7.855\n",
      ">Predicted=7.855, Expected=8.020\n",
      ">Predicted=8.020, Expected=8.185\n",
      ">Predicted=8.185, Expected=8.349\n",
      ">Predicted=8.349, Expected=8.560\n",
      ">Predicted=8.560, Expected=8.771\n",
      ">Predicted=8.771, Expected=8.983\n",
      ">Predicted=8.983, Expected=9.194\n",
      ">Predicted=9.194, Expected=9.405\n",
      ">Predicted=9.405, Expected=9.616\n",
      ">Predicted=9.616, Expected=9.827\n",
      ">Predicted=9.827, Expected=10.038\n",
      ">Predicted=10.038, Expected=10.249\n",
      ">Predicted=10.249, Expected=10.460\n",
      ">Predicted=10.460, Expected=10.671\n",
      ">Predicted=10.671, Expected=10.882\n",
      ">Predicted=10.882, Expected=10.975\n",
      ">Predicted=10.975, Expected=11.067\n",
      ">Predicted=11.067, Expected=11.159\n",
      ">Predicted=11.159, Expected=11.251\n",
      ">Predicted=11.251, Expected=11.344\n",
      ">Predicted=11.344, Expected=11.436\n",
      ">Predicted=11.436, Expected=11.528\n",
      ">Predicted=11.528, Expected=11.620\n",
      ">Predicted=11.620, Expected=11.713\n",
      ">Predicted=11.713, Expected=11.805\n",
      ">Predicted=11.805, Expected=11.897\n",
      ">Predicted=11.897, Expected=11.989\n",
      ">Predicted=11.989, Expected=11.728\n",
      ">Predicted=11.728, Expected=11.468\n",
      ">Predicted=11.468, Expected=11.207\n",
      ">Predicted=11.207, Expected=10.946\n",
      ">Predicted=10.946, Expected=10.685\n",
      ">Predicted=10.685, Expected=10.424\n",
      ">Predicted=10.424, Expected=10.163\n",
      ">Predicted=10.163, Expected=9.902\n",
      ">Predicted=9.902, Expected=9.641\n",
      ">Predicted=9.641, Expected=9.380\n",
      ">Predicted=9.380, Expected=9.119\n",
      ">Predicted=9.119, Expected=8.858\n",
      ">Predicted=8.858, Expected=8.896\n",
      ">Predicted=8.896, Expected=8.934\n",
      ">Predicted=8.934, Expected=8.972\n",
      ">Predicted=8.972, Expected=9.010\n",
      ">Predicted=9.010, Expected=9.048\n",
      ">Predicted=9.048, Expected=9.085\n",
      ">Predicted=9.085, Expected=9.123\n",
      ">Predicted=9.123, Expected=9.161\n",
      "RMSE: 0.246\n"
     ]
    }
   ],
   "source": [
    "# walk-forward validation\n",
    "history = [x for x in train]\n",
    "predictions = list()\n",
    "for i in range(len(test)):\n",
    "    yhat = history[-1]\n",
    "    predictions.append(yhat)\n",
    "# observation\n",
    "    obs = test[i]\n",
    "    history.append(obs)\n",
    "    print('>Predicted=%.3f, Expected=%.3f' % (yhat, obs))\n",
    "# report performance\n",
    "rmse = sqrt(mean_squared_error(test, predictions))\n",
    "print('RMSE: %.3f' % rmse)"
   ]
  },
  {
   "cell_type": "code",
   "execution_count": 10,
   "id": "f2ec4188",
   "metadata": {
    "ExecuteTime": {
     "end_time": "2022-04-22T07:27:58.660827Z",
     "start_time": "2022-04-22T07:27:58.450868Z"
    }
   },
   "outputs": [],
   "source": [
    "# grid search ARIMA parameters for a time series\n",
    "\n",
    "import warnings\n",
    "from pandas import read_csv\n",
    "from statsmodels.tsa.arima_model import ARIMA\n",
    "from sklearn.metrics import mean_squared_error\n",
    "from math import sqrt\n",
    "\n",
    "\n",
    "# evaluate an ARIMA model for a given order (p,d,q) and return RMSE\n",
    "def evaluate_arima_model(X, arima_order):\n",
    "# prepare training dataset\n",
    "    X = X.astype('float32')\n",
    "    train_size = int(len(X) * 0.50)\n",
    "    train, test = X[0:train_size], X[train_size:]\n",
    "    history = [x for x in train]\n",
    "# make predictions\n",
    "    predictions = list()\n",
    "    for t in range(len(test)):\n",
    "        model = ARIMA(history, order=arima_order)\n",
    "# model_fit = model.fit(disp=0)\n",
    "        model_fit = model.fit(disp=0)\n",
    "        yhat = model_fit.forecast()[0]\n",
    "        predictions.append(yhat)\n",
    "        history.append(test[t])\n",
    "# calculate out of sample error\n",
    "    rmse = sqrt(mean_squared_error(test, predictions))\n",
    "    return rmse"
   ]
  },
  {
   "cell_type": "code",
   "execution_count": 11,
   "id": "7c419a44",
   "metadata": {
    "ExecuteTime": {
     "end_time": "2022-04-22T07:27:58.677043Z",
     "start_time": "2022-04-22T07:27:58.664384Z"
    }
   },
   "outputs": [],
   "source": [
    "# save finalized model to file\n",
    "from pandas import read_csv\n",
    "from statsmodels.tsa.arima_model import ARIMA\n",
    "import numpy"
   ]
  },
  {
   "cell_type": "code",
   "execution_count": 12,
   "id": "84f0c62b",
   "metadata": {
    "ExecuteTime": {
     "end_time": "2022-04-22T07:27:58.730078Z",
     "start_time": "2022-04-22T07:27:58.684383Z"
    }
   },
   "outputs": [],
   "source": [
    "# load data\n",
    "train = read_csv('dataset.csv', header=0, index_col=0, parse_dates=True)\n",
    "# prepare data\n",
    "X = train.values\n",
    "X = X.astype('float32')"
   ]
  },
  {
   "cell_type": "code",
   "execution_count": 13,
   "id": "5a102abd",
   "metadata": {
    "ExecuteTime": {
     "end_time": "2022-04-22T07:28:00.462426Z",
     "start_time": "2022-04-22T07:27:58.736447Z"
    }
   },
   "outputs": [
    {
     "name": "stderr",
     "output_type": "stream",
     "text": [
      "C:\\Users\\ACER\\anaconda3\\lib\\site-packages\\statsmodels\\tsa\\arima_model.py:472: FutureWarning: \n",
      "statsmodels.tsa.arima_model.ARMA and statsmodels.tsa.arima_model.ARIMA have\n",
      "been deprecated in favor of statsmodels.tsa.arima.model.ARIMA (note the .\n",
      "between arima and model) and\n",
      "statsmodels.tsa.SARIMAX. These will be removed after the 0.12 release.\n",
      "\n",
      "statsmodels.tsa.arima.model.ARIMA makes use of the statespace framework and\n",
      "is both well tested and maintained.\n",
      "\n",
      "To silence this warning and continue using ARMA and ARIMA until they are\n",
      "removed, use:\n",
      "\n",
      "import warnings\n",
      "warnings.filterwarnings('ignore', 'statsmodels.tsa.arima_model.ARMA',\n",
      "                        FutureWarning)\n",
      "warnings.filterwarnings('ignore', 'statsmodels.tsa.arima_model.ARIMA',\n",
      "                        FutureWarning)\n",
      "\n",
      "  warnings.warn(ARIMA_DEPRECATION_WARN, FutureWarning)\n"
     ]
    },
    {
     "data": {
      "image/png": "[encoded data removed]",
      "text/plain": [
       "<Figure size 432x288 with 1 Axes>"
      ]
     },
     "execution_count": 13,
     "metadata": {},
     "output_type": "execute_result"
    },
    {
     "data": {
      "image/png": "[encoded data removed]",
      "text/plain": [
       "<Figure size 432x288 with 1 Axes>"
      ]
     },
     "metadata": {
      "needs_background": "light"
     },
     "output_type": "display_data"
    }
   ],
   "source": [
    "# fit model\n",
    "model = ARIMA(X, order=(2,0,1))\n",
    "model_fit = model.fit()\n",
    "forecast=model_fit.forecast(steps=100)[0]\n",
    "model_fit.plot_predict(1, 721)"
   ]
  },
  {
   "cell_type": "code",
   "execution_count": 14,
   "id": "4d7173cb",
   "metadata": {
    "ExecuteTime": {
     "end_time": "2022-04-22T07:28:00.489508Z",
     "start_time": "2022-04-22T07:28:00.473451Z"
    }
   },
   "outputs": [],
   "source": [
    "# prepare data\n",
    "X = df.values\n",
    "X = X.astype('float32')"
   ]
  },
  {
   "cell_type": "code",
   "execution_count": 15,
   "id": "c9ed4b09",
   "metadata": {
    "ExecuteTime": {
     "end_time": "2022-04-22T07:28:01.209868Z",
     "start_time": "2022-04-22T07:28:00.494186Z"
    }
   },
   "outputs": [
    {
     "name": "stderr",
     "output_type": "stream",
     "text": [
      "C:\\Users\\ACER\\anaconda3\\lib\\site-packages\\statsmodels\\tsa\\arima_model.py:472: FutureWarning: \n",
      "statsmodels.tsa.arima_model.ARMA and statsmodels.tsa.arima_model.ARIMA have\n",
      "been deprecated in favor of statsmodels.tsa.arima.model.ARIMA (note the .\n",
      "between arima and model) and\n",
      "statsmodels.tsa.SARIMAX. These will be removed after the 0.12 release.\n",
      "\n",
      "statsmodels.tsa.arima.model.ARIMA makes use of the statespace framework and\n",
      "is both well tested and maintained.\n",
      "\n",
      "To silence this warning and continue using ARMA and ARIMA until they are\n",
      "removed, use:\n",
      "\n",
      "import warnings\n",
      "warnings.filterwarnings('ignore', 'statsmodels.tsa.arima_model.ARMA',\n",
      "                        FutureWarning)\n",
      "warnings.filterwarnings('ignore', 'statsmodels.tsa.arima_model.ARIMA',\n",
      "                        FutureWarning)\n",
      "\n",
      "  warnings.warn(ARIMA_DEPRECATION_WARN, FutureWarning)\n"
     ]
    },
    {
     "data": {
      "image/png": "[encoded data removed]",
      "text/plain": [
       "<Figure size 432x288 with 1 Axes>"
      ]
     },
     "execution_count": 15,
     "metadata": {},
     "output_type": "execute_result"
    },
    {
     "data": {
      "image/png": "[encoded data removed]",
      "text/plain": [
       "<Figure size 432x288 with 1 Axes>"
      ]
     },
     "metadata": {
      "needs_background": "light"
     },
     "output_type": "display_data"
    }
   ],
   "source": [
    "# fit model\n",
    "model = ARIMA(X, order=(2,0,1))\n",
    "model_fit = model.fit()\n",
    "forecast=model_fit.forecast(steps=48)[0]\n",
    "model_fit.plot_predict(1, 769)"
   ]
  },
  {
   "cell_type": "code",
   "execution_count": 16,
   "id": "81d3011b",
   "metadata": {
    "ExecuteTime": {
     "end_time": "2022-04-22T07:28:01.232335Z",
     "start_time": "2022-04-22T07:28:01.211421Z"
    }
   },
   "outputs": [
    {
     "data": {
      "text/plain": [
       "array([6.85239133, 7.06731079, 7.26706648, 7.45079956, 7.61790647,\n",
       "       7.76802274, 7.90100556, 8.01691542, 8.11599722, 8.19866097,\n",
       "       8.26546238, 8.31708361, 8.35431433, 8.37803327, 8.38919045,\n",
       "       8.38879023, 8.37787524, 8.35751138, 8.32877384, 8.29273433,\n",
       "       8.25044949, 8.20295047, 8.15123377, 8.09625328, 8.03891347,\n",
       "       7.98006382, 7.92049427, 7.86093181, 7.80203806, 7.74440775,\n",
       "       7.68856816, 7.63497928, 7.58403475, 7.53606348, 7.49133173,\n",
       "       7.45004587, 7.41235539, 7.37835638, 7.34809526, 7.32157272,\n",
       "       7.29874782, 7.27954218, 7.26384423, 7.25151341, 7.24238436,\n",
       "       7.23627098, 7.23297033, 7.23226645])"
      ]
     },
     "execution_count": 16,
     "metadata": {},
     "output_type": "execute_result"
    }
   ],
   "source": [
    "# Result of next 48 months\n",
    "forecast"
   ]
  },
  {
   "cell_type": "code",
   "execution_count": 17,
   "id": "d3cc399e",
   "metadata": {
    "ExecuteTime": {
     "end_time": "2022-04-22T07:28:01.257469Z",
     "start_time": "2022-04-22T07:28:01.237694Z"
    }
   },
   "outputs": [],
   "source": [
    "pickle.dump(model,open('infliation.pkl','wb'))"
   ]
  },
  {
   "cell_type": "code",
   "execution_count": 18,
   "id": "777fce17",
   "metadata": {
    "ExecuteTime": {
     "end_time": "2022-04-22T07:28:01.288750Z",
     "start_time": "2022-04-22T07:28:01.262830Z"
    }
   },
   "outputs": [],
   "source": [
    "model = pickle.load(open('infliation.pkl','rb'))"
   ]
  },
  {
   "cell_type": "code",
   "execution_count": null,
   "id": "494b5b49",
   "metadata": {},
   "outputs": [],
   "source": []
  }
 ],
 "metadata": {
  "kernelspec": {
   "display_name": "Python 3 (ipykernel)",
   "language": "python",
   "name": "python3"
  },
  "language_info": {
   "codemirror_mode": {
    "name": "ipython",
    "version": 3
   },
   "file_extension": ".py",
   "mimetype": "text/x-python",
   "name": "python",
   "nbconvert_exporter": "python",
   "pygments_lexer": "ipython3",
   "version": "3.9.7"
  }
 },
 "nbformat": 4,
 "nbformat_minor": 5
}
